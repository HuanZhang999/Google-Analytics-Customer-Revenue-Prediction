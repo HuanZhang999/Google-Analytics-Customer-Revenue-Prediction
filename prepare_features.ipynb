{
 "cells": [
  {
   "cell_type": "code",
   "execution_count": 1,
   "metadata": {},
   "outputs": [],
   "source": [
    "import numpy as np\n",
    "import pandas as pd\n",
    "import pickle\n",
    "from datetime import datetime\n",
    "from sklearn import preprocessing\n",
    "import numpy as np\n",
    "import random\n",
    "random.seed(42)"
   ]
  },
  {
   "cell_type": "code",
   "execution_count": 2,
   "metadata": {},
   "outputs": [],
   "source": [
    "PATH='../../data/GoogleAnalyticsCustomerRevenuePrediction/'"
   ]
  },
  {
   "cell_type": "code",
   "execution_count": 3,
   "metadata": {},
   "outputs": [
    {
     "name": "stdout",
     "output_type": "stream",
     "text": [
      "CPU times: user 1.44 s, sys: 584 ms, total: 2.02 s\n",
      "Wall time: 2.4 s\n"
     ]
    }
   ],
   "source": [
    "%%time\n",
    "tr1 = pd.read_pickle(f'{PATH}tr1_clean')\n",
    "tr2 = pd.read_pickle(f'{PATH}tr2_clean')\n",
    "tr3 = pd.read_pickle(f'{PATH}tr3_clean')\n",
    "tr4 = pd.read_pickle(f'{PATH}tr4_clean')"
   ]
  },
  {
   "cell_type": "code",
   "execution_count": 4,
   "metadata": {},
   "outputs": [
    {
     "data": {
      "text/plain": [
       "((377186, 42), (288869, 42), (385318, 42), (366202, 42))"
      ]
     },
     "execution_count": 4,
     "metadata": {},
     "output_type": "execute_result"
    }
   ],
   "source": [
    "tr1.shape, tr2.shape, tr3.shape, tr4.shape,"
   ]
  },
  {
   "cell_type": "code",
   "execution_count": 5,
   "metadata": {},
   "outputs": [],
   "source": [
    "train = pd.concat([tr1, tr2, tr3, tr4], axis=0, sort=False).reset_index(drop=True)"
   ]
  },
  {
   "cell_type": "code",
   "execution_count": 6,
   "metadata": {},
   "outputs": [],
   "source": [
    "# correct data types\n",
    "train['interval_dates'] = train['interval_dates'].dt.days\n",
    "train['first_ses_from_the_period_start'] = train['first_ses_from_the_period_start'].dt.days\n",
    "train['last_ses_from_the_period_end'] = train['last_ses_from_the_period_end'].dt.days"
   ]
  },
  {
   "cell_type": "code",
   "execution_count": 7,
   "metadata": {},
   "outputs": [],
   "source": [
    "train_data_X = train.drop(['target', 'ret'], axis=1)\n",
    "train_data_y = train['target']\n",
    "train_data_ret = train['ret']"
   ]
  },
  {
   "cell_type": "code",
   "execution_count": 8,
   "metadata": {},
   "outputs": [],
   "source": [
    "num_cols = [colname for colname in train_data_X.columns if train_data_X[colname].dtype!= 'object']\n",
    "cat_cols = set(train_data_X.columns) - set(num_cols)"
   ]
  },
  {
   "cell_type": "code",
   "execution_count": 9,
   "metadata": {},
   "outputs": [],
   "source": [
    "# fillmissing \n",
    "for col in cat_cols:\n",
    "    train_data_X[col].fillna('missing', inplace=True) \n",
    "\n",
    "for col in num_cols:       \n",
    "    train_data_X[col].fillna(0, inplace=True)"
   ]
  },
  {
   "cell_type": "code",
   "execution_count": 10,
   "metadata": {},
   "outputs": [],
   "source": [
    "# label encoding\n",
    "les = []\n",
    "for col in cat_cols:\n",
    "    le = preprocessing.LabelEncoder()\n",
    "    le.fit(train_data_X[col])\n",
    "    les.append(le)\n",
    "    train_data_X[col] = le.transform(train_data_X[col])    "
   ]
  },
  {
   "cell_type": "code",
   "execution_count": 11,
   "metadata": {},
   "outputs": [],
   "source": [
    "with open('les.pickle', 'wb') as f:\n",
    "    pickle.dump(les, f, -1)"
   ]
  },
  {
   "cell_type": "code",
   "execution_count": 12,
   "metadata": {},
   "outputs": [
    {
     "name": "stderr",
     "output_type": "stream",
     "text": [
      "/home/nick/anaconda3/lib/python3.6/site-packages/sklearn/preprocessing/data.py:645: DataConversionWarning: Data with input dtype bool, int64, float64 were all converted to float64 by StandardScaler.\n",
      "  return self.partial_fit(X, y)\n",
      "/home/nick/anaconda3/lib/python3.6/site-packages/sklearn/base.py:464: DataConversionWarning: Data with input dtype bool, int64, float64 were all converted to float64 by StandardScaler.\n",
      "  return self.fit(X, **fit_params).transform(X)\n"
     ]
    }
   ],
   "source": [
    "# standardize the num_cols\n",
    "\n",
    "# Create the Scaler object\n",
    "scaler = preprocessing.StandardScaler()\n",
    "\n",
    "# Fit your data on the scaler object\n",
    "scaled_df = scaler.fit_transform(train_data_X[num_cols])\n",
    "scaled_df = pd.DataFrame(scaled_df, columns=num_cols)\n",
    "train_data_X[num_cols] = scaled_df"
   ]
  },
  {
   "cell_type": "code",
   "execution_count": 13,
   "metadata": {},
   "outputs": [],
   "source": [
    "train_data_y = np.array(train_data_y)\n",
    "train_data_ret = np.array(train_data_ret)\n",
    "\n",
    "with open('feature_train_data_v2.pickle', 'wb') as f:\n",
    "    pickle.dump((train_data_X, train_data_y, train_data_ret), f, -1)   "
   ]
  },
  {
   "cell_type": "code",
   "execution_count": 14,
   "metadata": {},
   "outputs": [],
   "source": [
    "with open('col_types.pickle', 'wb') as f:\n",
    "    pickle.dump((cat_cols, num_cols), f, -1) "
   ]
  },
  {
   "cell_type": "code",
   "execution_count": null,
   "metadata": {},
   "outputs": [],
   "source": []
  }
 ],
 "metadata": {
  "kernelspec": {
   "display_name": "Python 3",
   "language": "python",
   "name": "python3"
  },
  "language_info": {
   "codemirror_mode": {
    "name": "ipython",
    "version": 3
   },
   "file_extension": ".py",
   "mimetype": "text/x-python",
   "name": "python",
   "nbconvert_exporter": "python",
   "pygments_lexer": "ipython3",
   "version": "3.6.8"
  }
 },
 "nbformat": 4,
 "nbformat_minor": 2
}
